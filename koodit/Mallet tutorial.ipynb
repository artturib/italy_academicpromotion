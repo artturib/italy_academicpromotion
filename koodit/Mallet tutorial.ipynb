{
 "metadata": {
  "name": "",
  "signature": "sha256:b470d2d699d5935b1a63c07f111384442a6a57bbfbd1684e0e1fdd0b0fee4b2d"
 },
 "nbformat": 3,
 "nbformat_minor": 0,
 "worksheets": [
  {
   "cells": [
    {
     "cell_type": "code",
     "collapsed": false,
     "input": [
      "import logging\n",
      "import os\n",
      "from gensim import corpora, models, utils\n",
      "logging.basicConfig(format='%(asctime)s : %(levelname)s : %(message)s', level=logging.INFO)"
     ],
     "language": "python",
     "metadata": {},
     "outputs": [],
     "prompt_number": 1
    },
    {
     "cell_type": "code",
     "collapsed": false,
     "input": [
      "def iter_documents(reuters_dir):\n",
      "    \"\"\"Iterate over Reuters documents, yielding one document at a time.\"\"\"\n",
      "    for fname in os.listdir(reuters_dir):\n",
      "        # read each document as one big string\n",
      "        document = open(os.path.join(reuters_dir, fname)).read()\n",
      "        # parse document into a list of utf8 tokens\n",
      "        yield utils.simple_preprocess(document)\n",
      " \n",
      "class ReutersCorpus(object):\n",
      "    def __init__(self, reuters_dir):\n",
      "        self.reuters_dir = reuters_dir\n",
      "        self.dictionary = corpora.Dictionary(iter_documents(reuters_dir))\n",
      "        self.dictionary.filter_extremes()  # remove stopwords etc\n",
      " \n",
      "    def __iter__(self):\n",
      "        for tokens in iter_documents(self.reuters_dir):\n",
      "            yield self.dictionary.doc2bow(tokens)"
     ],
     "language": "python",
     "metadata": {},
     "outputs": [],
     "prompt_number": 2
    },
    {
     "cell_type": "code",
     "collapsed": false,
     "input": [
      "corpus_location = 'C:/Users/k92352/AppData/Roaming/nltk_data/corpora/reuters/training/'\n",
      "corpus = ReutersCorpus(corpus_location)"
     ],
     "language": "python",
     "metadata": {},
     "outputs": [],
     "prompt_number": 4
    },
    {
     "cell_type": "code",
     "collapsed": false,
     "input": [
      "mallet_path = 'C:/mallet/bin/mallet'\n",
      "mallet_path = 'C:/Users/k92352/mallet/bin/mallet'\n",
      "model = models.LdaMallet(mallet_path, corpus, num_topics=10, id2word=corpus.dictionary)"
     ],
     "language": "python",
     "metadata": {},
     "outputs": [
      {
       "output_type": "stream",
       "stream": "stderr",
       "text": [
        "C:\\Anaconda\\lib\\site-packages\\gensim\\models\\ldamallet.py:234: RuntimeWarning: invalid value encountered in divide\n",
        "  topic = topic / topic.sum() # normalize to probability dist\n"
       ]
      }
     ],
     "prompt_number": 5
    },
    {
     "cell_type": "code",
     "collapsed": false,
     "input": [
      "doc = \"Don't sell coffee, wheat nor sugar; trade gold, oil and gas instead.\"\n",
      "bow = corpus.dictionary.doc2bow(utils.simple_preprocess(doc))\n",
      "print model[bow]"
     ],
     "language": "python",
     "metadata": {},
     "outputs": [
      {
       "output_type": "stream",
       "stream": "stdout",
       "text": [
        "[(0, 0.10000000000000002), (1, 0.10000000000000002), (2, 0.10000000000000002), (3, 0.10000000000000002), (4, 0.10000000000000002), (5, 0.10000000000000002), (6, 0.10000000000000002), (7, 0.10000000000000002), (8, 0.10000000000000002), (9, 0.10000000000000002)]\n"
       ]
      }
     ],
     "prompt_number": 6
    },
    {
     "cell_type": "code",
     "collapsed": false,
     "input": [],
     "language": "python",
     "metadata": {},
     "outputs": []
    }
   ],
   "metadata": {}
  }
 ]
}